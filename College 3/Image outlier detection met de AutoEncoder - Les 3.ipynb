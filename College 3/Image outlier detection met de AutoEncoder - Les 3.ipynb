{
 "cells": [
  {
   "cell_type": "code",
   "execution_count": null,
   "id": "0cf1504f",
   "metadata": {},
   "outputs": [
    {
     "name": "stdout",
     "output_type": "stream",
     "text": [
      "Collecting tensorflow\n",
      "  Downloading tensorflow-2.19.0-cp312-cp312-win_amd64.whl.metadata (4.1 kB)\n",
      "Collecting absl-py>=1.0.0 (from tensorflow)\n",
      "  Downloading absl_py-2.2.2-py3-none-any.whl.metadata (2.6 kB)\n",
      "Collecting astunparse>=1.6.0 (from tensorflow)\n",
      "  Downloading astunparse-1.6.3-py2.py3-none-any.whl.metadata (4.4 kB)\n",
      "Collecting flatbuffers>=24.3.25 (from tensorflow)\n",
      "  Downloading flatbuffers-25.2.10-py2.py3-none-any.whl.metadata (875 bytes)\n",
      "Collecting gast!=0.5.0,!=0.5.1,!=0.5.2,>=0.2.1 (from tensorflow)\n",
      "  Downloading gast-0.6.0-py3-none-any.whl.metadata (1.3 kB)\n",
      "Collecting google-pasta>=0.1.1 (from tensorflow)\n",
      "  Downloading google_pasta-0.2.0-py3-none-any.whl.metadata (814 bytes)\n",
      "Collecting libclang>=13.0.0 (from tensorflow)\n",
      "  Downloading libclang-18.1.1-py2.py3-none-win_amd64.whl.metadata (5.3 kB)\n",
      "Collecting opt-einsum>=2.3.2 (from tensorflow)\n",
      "  Downloading opt_einsum-3.4.0-py3-none-any.whl.metadata (6.3 kB)\n",
      "Requirement already satisfied: packaging in c:\\users\\chaos\\appdata\\roaming\\python\\python312\\site-packages (from tensorflow) (24.2)\n",
      "Requirement already satisfied: protobuf!=4.21.0,!=4.21.1,!=4.21.2,!=4.21.3,!=4.21.4,!=4.21.5,<6.0.0dev,>=3.20.3 in c:\\users\\chaos\\appdata\\roaming\\python\\python312\\site-packages (from tensorflow) (5.29.3)\n",
      "Requirement already satisfied: requests<3,>=2.21.0 in c:\\users\\chaos\\appdata\\roaming\\python\\python312\\site-packages (from tensorflow) (2.32.3)\n",
      "Requirement already satisfied: setuptools in c:\\users\\chaos\\anaconda3\\lib\\site-packages (from tensorflow) (75.1.0)\n",
      "Requirement already satisfied: six>=1.12.0 in c:\\users\\chaos\\appdata\\roaming\\python\\python312\\site-packages (from tensorflow) (1.17.0)\n",
      "Collecting termcolor>=1.1.0 (from tensorflow)\n",
      "  Downloading termcolor-3.0.1-py3-none-any.whl.metadata (6.1 kB)\n",
      "Requirement already satisfied: typing-extensions>=3.6.6 in c:\\users\\chaos\\appdata\\roaming\\python\\python312\\site-packages (from tensorflow) (4.12.2)\n",
      "Requirement already satisfied: wrapt>=1.11.0 in c:\\users\\chaos\\anaconda3\\lib\\site-packages (from tensorflow) (1.14.1)\n",
      "Collecting grpcio<2.0,>=1.24.3 (from tensorflow)\n",
      "  Downloading grpcio-1.71.0-cp312-cp312-win_amd64.whl.metadata (4.0 kB)\n",
      "Collecting tensorboard~=2.19.0 (from tensorflow)\n",
      "  Downloading tensorboard-2.19.0-py3-none-any.whl.metadata (1.8 kB)\n",
      "Collecting keras>=3.5.0 (from tensorflow)\n",
      "  Downloading keras-3.9.2-py3-none-any.whl.metadata (6.1 kB)\n",
      "Requirement already satisfied: numpy<2.2.0,>=1.26.0 in c:\\users\\chaos\\anaconda3\\lib\\site-packages (from tensorflow) (1.26.4)\n",
      "Requirement already satisfied: h5py>=3.11.0 in c:\\users\\chaos\\anaconda3\\lib\\site-packages (from tensorflow) (3.11.0)\n",
      "Collecting ml-dtypes<1.0.0,>=0.5.1 (from tensorflow)\n",
      "  Downloading ml_dtypes-0.5.1-cp312-cp312-win_amd64.whl.metadata (22 kB)\n",
      "Requirement already satisfied: wheel<1.0,>=0.23.0 in c:\\users\\chaos\\anaconda3\\lib\\site-packages (from astunparse>=1.6.0->tensorflow) (0.44.0)\n",
      "Requirement already satisfied: rich in c:\\users\\chaos\\appdata\\roaming\\python\\python312\\site-packages (from keras>=3.5.0->tensorflow) (13.9.4)\n",
      "Collecting namex (from keras>=3.5.0->tensorflow)\n",
      "  Downloading namex-0.0.8-py3-none-any.whl.metadata (246 bytes)\n",
      "Collecting optree (from keras>=3.5.0->tensorflow)\n",
      "  Downloading optree-0.15.0-cp312-cp312-win_amd64.whl.metadata (49 kB)\n",
      "Requirement already satisfied: charset-normalizer<4,>=2 in c:\\users\\chaos\\appdata\\roaming\\python\\python312\\site-packages (from requests<3,>=2.21.0->tensorflow) (3.4.1)\n",
      "Requirement already satisfied: idna<4,>=2.5 in c:\\users\\chaos\\appdata\\roaming\\python\\python312\\site-packages (from requests<3,>=2.21.0->tensorflow) (3.10)\n",
      "Requirement already satisfied: urllib3<3,>=1.21.1 in c:\\users\\chaos\\appdata\\roaming\\python\\python312\\site-packages (from requests<3,>=2.21.0->tensorflow) (2.3.0)\n",
      "Requirement already satisfied: certifi>=2017.4.17 in c:\\users\\chaos\\appdata\\roaming\\python\\python312\\site-packages (from requests<3,>=2.21.0->tensorflow) (2025.1.31)\n",
      "Requirement already satisfied: markdown>=2.6.8 in c:\\users\\chaos\\anaconda3\\lib\\site-packages (from tensorboard~=2.19.0->tensorflow) (3.4.1)\n",
      "Collecting tensorboard-data-server<0.8.0,>=0.7.0 (from tensorboard~=2.19.0->tensorflow)\n",
      "  Downloading tensorboard_data_server-0.7.2-py3-none-any.whl.metadata (1.1 kB)\n",
      "Requirement already satisfied: werkzeug>=1.0.1 in c:\\users\\chaos\\anaconda3\\lib\\site-packages (from tensorboard~=2.19.0->tensorflow) (3.0.3)\n",
      "Requirement already satisfied: MarkupSafe>=2.1.1 in c:\\users\\chaos\\appdata\\roaming\\python\\python312\\site-packages (from werkzeug>=1.0.1->tensorboard~=2.19.0->tensorflow) (3.0.2)\n",
      "Requirement already satisfied: markdown-it-py>=2.2.0 in c:\\users\\chaos\\appdata\\roaming\\python\\python312\\site-packages (from rich->keras>=3.5.0->tensorflow) (3.0.0)\n",
      "Requirement already satisfied: pygments<3.0.0,>=2.13.0 in c:\\users\\chaos\\appdata\\roaming\\python\\python312\\site-packages (from rich->keras>=3.5.0->tensorflow) (2.19.1)\n",
      "Requirement already satisfied: mdurl~=0.1 in c:\\users\\chaos\\appdata\\roaming\\python\\python312\\site-packages (from markdown-it-py>=2.2.0->rich->keras>=3.5.0->tensorflow) (0.1.2)\n",
      "Downloading tensorflow-2.19.0-cp312-cp312-win_amd64.whl (376.0 MB)\n",
      "   ---------------------------------------- 0.0/376.0 MB ? eta -:--:--\n",
      "    --------------------------------------- 6.0/376.0 MB 28.4 MB/s eta 0:00:14\n",
      "   - -------------------------------------- 12.3/376.0 MB 28.6 MB/s eta 0:00:13\n",
      "   - -------------------------------------- 17.8/376.0 MB 28.1 MB/s eta 0:00:13\n",
      "   -- ------------------------------------- 23.9/376.0 MB 28.0 MB/s eta 0:00:13\n",
      "   --- ------------------------------------ 30.1/376.0 MB 28.1 MB/s eta 0:00:13\n",
      "   --- ------------------------------------ 36.4/376.0 MB 28.2 MB/s eta 0:00:13\n",
      "   ---- ----------------------------------- 42.5/376.0 MB 28.1 MB/s eta 0:00:12\n",
      "   ----- ---------------------------------- 48.5/376.0 MB 28.3 MB/s eta 0:00:12\n",
      "   ----- ---------------------------------- 54.8/376.0 MB 28.4 MB/s eta 0:00:12\n",
      "   ------ --------------------------------- 61.1/376.0 MB 28.4 MB/s eta 0:00:12\n",
      "   ------- -------------------------------- 67.6/376.0 MB 28.6 MB/s eta 0:00:11\n",
      "   ------- -------------------------------- 73.9/376.0 MB 28.6 MB/s eta 0:00:11\n",
      "   -------- ------------------------------- 79.7/376.0 MB 28.4 MB/s eta 0:00:11\n",
      "   --------- ------------------------------ 85.2/376.0 MB 28.3 MB/s eta 0:00:11\n",
      "   --------- ------------------------------ 91.8/376.0 MB 28.4 MB/s eta 0:00:10\n",
      "   ---------- ----------------------------- 98.0/376.0 MB 28.6 MB/s eta 0:00:10\n",
      "   ---------- ---------------------------- 104.3/376.0 MB 28.5 MB/s eta 0:00:10\n",
      "   ----------- --------------------------- 110.4/376.0 MB 28.5 MB/s eta 0:00:10\n",
      "   ------------ -------------------------- 116.1/376.0 MB 28.4 MB/s eta 0:00:10\n",
      "   ------------ -------------------------- 122.4/376.0 MB 28.4 MB/s eta 0:00:09\n",
      "   ------------- ------------------------- 127.9/376.0 MB 28.3 MB/s eta 0:00:09\n",
      "   ------------- ------------------------- 134.2/376.0 MB 28.4 MB/s eta 0:00:09\n",
      "   -------------- ------------------------ 140.8/376.0 MB 28.5 MB/s eta 0:00:09\n",
      "   --------------- ----------------------- 146.8/376.0 MB 28.4 MB/s eta 0:00:09\n",
      "   --------------- ----------------------- 152.8/376.0 MB 28.4 MB/s eta 0:00:08\n",
      "   ---------------- ---------------------- 159.1/376.0 MB 28.4 MB/s eta 0:00:08\n",
      "   ----------------- --------------------- 165.2/376.0 MB 28.4 MB/s eta 0:00:08\n",
      "   ----------------- --------------------- 170.4/376.0 MB 28.3 MB/s eta 0:00:08\n",
      "   ------------------ -------------------- 176.7/376.0 MB 28.3 MB/s eta 0:00:08\n",
      "   ------------------- ------------------- 183.2/376.0 MB 28.4 MB/s eta 0:00:07\n",
      "   ------------------- ------------------- 187.7/376.0 MB 28.2 MB/s eta 0:00:07\n",
      "   -------------------- ------------------ 194.2/376.0 MB 28.2 MB/s eta 0:00:07\n",
      "   -------------------- ------------------ 200.8/376.0 MB 28.2 MB/s eta 0:00:07\n",
      "   --------------------- ----------------- 206.3/376.0 MB 28.2 MB/s eta 0:00:07\n",
      "   --------------------- ----------------- 212.1/376.0 MB 28.1 MB/s eta 0:00:06\n",
      "   ---------------------- ---------------- 218.4/376.0 MB 28.1 MB/s eta 0:00:06\n",
      "   ----------------------- --------------- 224.7/376.0 MB 28.2 MB/s eta 0:00:06\n",
      "   ----------------------- --------------- 230.2/376.0 MB 28.1 MB/s eta 0:00:06\n",
      "   ------------------------ -------------- 232.3/376.0 MB 27.9 MB/s eta 0:00:06\n",
      "   ------------------------ -------------- 237.2/376.0 MB 27.5 MB/s eta 0:00:06\n",
      "   ------------------------- ------------- 243.5/376.0 MB 27.6 MB/s eta 0:00:05\n",
      "   ------------------------- ------------- 249.6/376.0 MB 27.6 MB/s eta 0:00:05\n",
      "   -------------------------- ------------ 254.3/376.0 MB 27.5 MB/s eta 0:00:05\n",
      "   --------------------------- ----------- 260.6/376.0 MB 27.5 MB/s eta 0:00:05\n",
      "   --------------------------- ----------- 265.0/376.0 MB 27.3 MB/s eta 0:00:05\n",
      "   ---------------------------- ---------- 271.6/376.0 MB 27.3 MB/s eta 0:00:04\n",
      "   ---------------------------- ---------- 276.8/376.0 MB 27.2 MB/s eta 0:00:04\n",
      "   ----------------------------- --------- 283.1/376.0 MB 27.4 MB/s eta 0:00:04\n",
      "   ------------------------------ -------- 289.7/376.0 MB 27.4 MB/s eta 0:00:04\n",
      "   ------------------------------ -------- 296.0/376.0 MB 27.4 MB/s eta 0:00:03\n",
      "   ------------------------------- ------- 302.0/376.0 MB 27.3 MB/s eta 0:00:03\n",
      "   ------------------------------- ------- 308.0/376.0 MB 27.4 MB/s eta 0:00:03\n",
      "   -------------------------------- ------ 314.0/376.0 MB 27.3 MB/s eta 0:00:03\n",
      "   --------------------------------- ----- 319.8/376.0 MB 27.3 MB/s eta 0:00:03\n",
      "   --------------------------------- ----- 326.1/376.0 MB 27.3 MB/s eta 0:00:02\n",
      "   ---------------------------------- ---- 332.4/376.0 MB 27.3 MB/s eta 0:00:02\n",
      "   ----------------------------------- --- 338.4/376.0 MB 27.3 MB/s eta 0:00:02\n",
      "   ----------------------------------- --- 343.4/376.0 MB 27.3 MB/s eta 0:00:02\n",
      "   ------------------------------------ -- 349.7/376.0 MB 27.3 MB/s eta 0:00:01\n",
      "   ------------------------------------ -- 356.0/376.0 MB 27.3 MB/s eta 0:00:01\n",
      "   ------------------------------------- - 362.5/376.0 MB 27.3 MB/s eta 0:00:01\n",
      "   --------------------------------------  368.8/376.0 MB 27.3 MB/s eta 0:00:01\n",
      "   --------------------------------------  374.9/376.0 MB 27.3 MB/s eta 0:00:01\n",
      "   --------------------------------------  375.9/376.0 MB 27.3 MB/s eta 0:00:01\n",
      "   --------------------------------------  375.9/376.0 MB 27.3 MB/s eta 0:00:01\n",
      "   --------------------------------------  375.9/376.0 MB 27.3 MB/s eta 0:00:01\n",
      "   --------------------------------------  375.9/376.0 MB 27.3 MB/s eta 0:00:01\n",
      "   --------------------------------------  375.9/376.0 MB 27.3 MB/s eta 0:00:01\n",
      "   --------------------------------------  375.9/376.0 MB 27.3 MB/s eta 0:00:01\n",
      "   --------------------------------------  375.9/376.0 MB 27.3 MB/s eta 0:00:01\n",
      "   --------------------------------------  375.9/376.0 MB 27.3 MB/s eta 0:00:01\n",
      "   --------------------------------------- 376.0/376.0 MB 22.8 MB/s eta 0:00:00\n",
      "Downloading absl_py-2.2.2-py3-none-any.whl (135 kB)\n",
      "Downloading astunparse-1.6.3-py2.py3-none-any.whl (12 kB)\n",
      "Downloading flatbuffers-25.2.10-py2.py3-none-any.whl (30 kB)\n",
      "Downloading gast-0.6.0-py3-none-any.whl (21 kB)\n",
      "Downloading google_pasta-0.2.0-py3-none-any.whl (57 kB)\n",
      "Downloading grpcio-1.71.0-cp312-cp312-win_amd64.whl (4.3 MB)\n",
      "   ---------------------------------------- 0.0/4.3 MB ? eta -:--:--\n",
      "   ---------------------------------------- 4.3/4.3 MB 23.3 MB/s eta 0:00:00\n",
      "Downloading keras-3.9.2-py3-none-any.whl (1.3 MB)\n",
      "   ---------------------------------------- 0.0/1.3 MB ? eta -:--:--\n",
      "   ---------------------------------------- 1.3/1.3 MB 23.5 MB/s eta 0:00:00\n",
      "Downloading libclang-18.1.1-py2.py3-none-win_amd64.whl (26.4 MB)\n",
      "   ---------------------------------------- 0.0/26.4 MB ? eta -:--:--\n",
      "   -------- ------------------------------- 5.8/26.4 MB 29.3 MB/s eta 0:00:01\n",
      "   ------------------ --------------------- 12.1/26.4 MB 29.1 MB/s eta 0:00:01\n",
      "   --------------------------- ------------ 18.4/26.4 MB 28.9 MB/s eta 0:00:01\n",
      "   ------------------------------------- -- 24.9/26.4 MB 29.2 MB/s eta 0:00:01\n",
      "   ---------------------------------------- 26.4/26.4 MB 25.7 MB/s eta 0:00:00\n",
      "Downloading ml_dtypes-0.5.1-cp312-cp312-win_amd64.whl (210 kB)\n",
      "Downloading opt_einsum-3.4.0-py3-none-any.whl (71 kB)\n",
      "Downloading tensorboard-2.19.0-py3-none-any.whl (5.5 MB)\n",
      "   ---------------------------------------- 0.0/5.5 MB ? eta -:--:--\n",
      "   -------------------------------------- - 5.2/5.5 MB 31.9 MB/s eta 0:00:01\n",
      "   ---------------------------------------- 5.5/5.5 MB 23.9 MB/s eta 0:00:00\n",
      "Downloading termcolor-3.0.1-py3-none-any.whl (7.2 kB)\n",
      "Downloading tensorboard_data_server-0.7.2-py3-none-any.whl (2.4 kB)\n",
      "Downloading namex-0.0.8-py3-none-any.whl (5.8 kB)\n",
      "Downloading optree-0.15.0-cp312-cp312-win_amd64.whl (307 kB)\n",
      "Installing collected packages: namex, libclang, flatbuffers, termcolor, tensorboard-data-server, optree, opt-einsum, ml-dtypes, grpcio, google-pasta, gast, astunparse, absl-py, tensorboard, keras, tensorflow\n",
      "Successfully installed absl-py-2.2.2 astunparse-1.6.3 flatbuffers-25.2.10 gast-0.6.0 google-pasta-0.2.0 grpcio-1.71.0 keras-3.9.2 libclang-18.1.1 ml-dtypes-0.5.1 namex-0.0.8 opt-einsum-3.4.0 optree-0.15.0 tensorboard-2.19.0 tensorboard-data-server-0.7.2 tensorflow-2.19.0 termcolor-3.0.1\n"
     ]
    }
   ],
   "source": [
    "# Run deze commands als je het nog niet hebt gedaan\n",
    "# !pip install opencv-python\n",
    "# !pip install pillow\n",
    "# !pip install tensorflow"
   ]
  },
  {
   "cell_type": "markdown",
   "id": "97208562",
   "metadata": {},
   "source": [
    "# Stap 1: Data voorbereiden:\n",
    "1. Zorg dat je een dataset hebt van ruim meer dan 1000 afbeeldingen\n",
    "2. Splits de data in 3 datasets:\n",
    "\n",
    "    a) x_train: ongeveer 80% van de gehele dataset\n",
    "    \n",
    "    b) x_test: ongeveer 20% van de gehele dataset\n",
    "    \n",
    "    c) x_val: ongeveer 5 afbeeldingen die geen anomally zijn (uit je dataset) + een aantal anomallies\n",
    "<b> Belangrijk </b>, zorg er voor data je de data _random_ split\n",
    "\n",
    "3. Zet de afbeeldingen om naar 28 x 28\n",
    "4. Maak de afbeeldingen zwart wit\n",
    "5. Maak van elke dataset een numpy object met de shape (aantal_afbeeldingen, 28, 28)\n",
    "\n",
    "<b> Tip: </b> Kijk even of het is goedgegaan door door je datasets heen te bladeren en afbeeldingen met de \"imshow\" functie van matplotlib\n",
    "\n",
    "6. Pixels hebben normaal een waarde tussen 0 en 255, het model werkt alleen met waarden tussen 0 en 1"
   ]
  },
  {
   "cell_type": "code",
   "execution_count": 55,
   "id": "66c79d19",
   "metadata": {},
   "outputs": [
    {
     "data": {
      "text/plain": [
       "(28, 28)"
      ]
     },
     "execution_count": 55,
     "metadata": {},
     "output_type": "execute_result"
    }
   ],
   "source": [
    "import cv2\n",
    "from PIL import Image\n",
    "import matplotlib.pyplot as plt\n",
    "import numpy as np\n",
    "import os\n",
    "import random\n",
    "from sklearn.model_selection import train_test_split\n",
    "\n",
    "# os.chdir(\"Subsample_image_data\")\n",
    "# of os.chdir(‘image_data’)\n",
    "os.listdir()\n",
    "\n",
    "image_name = '00001_3_F.png'\n",
    "image_name\n",
    "\n",
    "image = cv2.imread(image_name, cv2.IMREAD_GRAYSCALE)\n",
    "# image.shape\n",
    "image = Image.fromarray(image)\n",
    "image\n",
    "\n",
    "\n",
    "# resize de image\n",
    "image = np.array((image.resize((28,28), Image.LANCZOS)))\n",
    "image.shape\n"
   ]
  },
  {
   "cell_type": "code",
   "execution_count": null,
   "id": "f11bc45f",
   "metadata": {},
   "outputs": [
    {
     "data": {
      "text/plain": [
       "391216"
      ]
     },
     "execution_count": 53,
     "metadata": {},
     "output_type": "execute_result"
    }
   ],
   "source": [
    "# images in een list zetten\n",
    "images = []\n",
    "for image_name in os.listdir():\n",
    "    if '.png' in image_name:\n",
    "        image = cv2.imread(image_name, cv2.IMREAD_GRAYSCALE)\n",
    "        image = Image.fromarray(image)\n",
    "        image = np.array((image.resize((28,28), Image.LANCZOS)))\n",
    "        images.append(image)\n",
    "\n",
    "random.shuffle(images)\n",
    "images = np.stack(images)\n",
    "\n",
    "x_val = images[1200:1201] / 255\n",
    "# x_predict = new_model.predict(x_val)\n",
    "images.size\n"
   ]
  },
  {
   "cell_type": "code",
   "execution_count": 56,
   "id": "8ebfe2ec",
   "metadata": {},
   "outputs": [
    {
     "data": {
      "text/plain": [
       "<matplotlib.image.AxesImage at 0x2b8b434e450>"
      ]
     },
     "execution_count": 56,
     "metadata": {},
     "output_type": "execute_result"
    },
    {
     "data": {
      "image/png": "[encoded data removed]",
      "text/plain": [
       "<Figure size 640x480 with 1 Axes>"
      ]
     },
     "metadata": {},
     "output_type": "display_data"
    }
   ],
   "source": [
    "random.shuffle(images)\n",
    "# er een numpy array van maken in plaats van list\n",
    "images = np.stack(images)\n",
    "images.shape\n",
    "\n",
    "\n",
    "x_train, x_test = train_test_split(images, test_size=0.2, random_state=42)\n",
    "# Delen door 255 om de waardes tussen 0 en 1 te krijgen\n",
    "x_train = x_train / 255\n",
    "x_test = x_test / 255\n",
    "plt.imshow(images[8], cmap='gray')\n"
   ]
  },
  {
   "cell_type": "markdown",
   "id": "46c1eee1",
   "metadata": {},
   "source": [
    "# Stap 2: Het trainen van de Autoencoder\n",
    "Hieronder krijgen jullie de code van het model (de autoencoder), hij is opgesschreven als functie. In de documentatie van de functie staat wat de inputs en outputs zijn."
   ]
  },
  {
   "cell_type": "code",
   "execution_count": 57,
   "id": "628532c0",
   "metadata": {},
   "outputs": [],
   "source": [
    "def train_autoencoder(x_train, x_test, latent_dim, num_epochs):\n",
    "    \"\"\"\n",
    "    :param x_train: this should be (around) 80% of your train dataset !!important, use a random split\n",
    "    :param x_test: this should be (around) 20 % of your train dataset !!important, use a random split\n",
    "    :param latent_dim: This is the space the images will be reduced to, to start: use the value 164, play with it later\n",
    "    :param num_epochs: The number of training rounds\n",
    "    :return: [0] : the trained autoencoder model\n",
    "             [1] : the training data loss per epoch\n",
    "             [2] : the test data loss per epoch\n",
    "    \"\"\"\n",
    "    import tensorflow as tf\n",
    "    from tensorflow.keras import layers, losses\n",
    "    from tensorflow.keras.models import Model\n",
    "\n",
    "    class Autoencoder(Model):\n",
    "        def __init__(self, latent_dim):\n",
    "            super(Autoencoder, self).__init__()\n",
    "            self.latent_dim = latent_dim\n",
    "            self.encoder = tf.keras.Sequential([\n",
    "                layers.Flatten(),\n",
    "                layers.Dense(latent_dim, activation='relu'),\n",
    "            ])\n",
    "            self.decoder = tf.keras.Sequential([\n",
    "                layers.Dense(784, activation='sigmoid'),\n",
    "                layers.Reshape((28, 28))\n",
    "            ])\n",
    "\n",
    "        def call(self, x):\n",
    "            encoded = self.encoder(x)\n",
    "            decoded = self.decoder(encoded)\n",
    "            return decoded\n",
    "\n",
    "    autoencoder = Autoencoder(latent_dim)\n",
    "\n",
    "    autoencoder.compile(optimizer='adam', loss=losses.MeanSquaredError())\n",
    "\n",
    "    history = autoencoder.fit(x_train, x_train,\n",
    "                    epochs=num_epochs,\n",
    "                    shuffle=True,\n",
    "                    validation_data=(x_test, x_test))\n",
    "\n",
    "    return autoencoder, history.history['loss'], history.history['val_loss']"
   ]
  },
  {
   "cell_type": "markdown",
   "id": "dc3923ef",
   "metadata": {},
   "source": [
    "## 2.1 Trainen\n",
    "Train het model met de functie hierboven, kies een lage waarde voor de epochs"
   ]
  },
  {
   "cell_type": "code",
   "execution_count": 58,
   "id": "5e2b34b7",
   "metadata": {},
   "outputs": [
    {
     "name": "stdout",
     "output_type": "stream",
     "text": [
      "Epoch 1/5\n",
      "\u001b[1m13/13\u001b[0m \u001b[32m━━━━━━━━━━━━━━━━━━━━\u001b[0m\u001b[37m\u001b[0m \u001b[1m1s\u001b[0m 11ms/step - loss: 0.0896 - val_loss: 0.0484\n",
      "Epoch 2/5\n",
      "\u001b[1m13/13\u001b[0m \u001b[32m━━━━━━━━━━━━━━━━━━━━\u001b[0m\u001b[37m\u001b[0m \u001b[1m0s\u001b[0m 5ms/step - loss: 0.0491 - val_loss: 0.0406\n",
      "Epoch 3/5\n",
      "\u001b[1m13/13\u001b[0m \u001b[32m━━━━━━━━━━━━━━━━━━━━\u001b[0m\u001b[37m\u001b[0m \u001b[1m0s\u001b[0m 5ms/step - loss: 0.0428 - val_loss: 0.0371\n",
      "Epoch 4/5\n",
      "\u001b[1m13/13\u001b[0m \u001b[32m━━━━━━━━━━━━━━━━━━━━\u001b[0m\u001b[37m\u001b[0m \u001b[1m0s\u001b[0m 5ms/step - loss: 0.0384 - val_loss: 0.0331\n",
      "Epoch 5/5\n",
      "\u001b[1m13/13\u001b[0m \u001b[32m━━━━━━━━━━━━━━━━━━━━\u001b[0m\u001b[37m\u001b[0m \u001b[1m0s\u001b[0m 5ms/step - loss: 0.0344 - val_loss: 0.0295\n"
     ]
    }
   ],
   "source": [
    "model, loss_train, loss_test = train_autoencoder(x_train, x_test, 164, 5)"
   ]
  },
  {
   "cell_type": "code",
   "execution_count": null,
   "id": "f00ca8d6",
   "metadata": {},
   "outputs": [],
   "source": []
  },
  {
   "cell_type": "markdown",
   "id": "94da1398",
   "metadata": {},
   "source": [
    "## 2.2 Analyseer de loss functie:\n",
    "Plot de loss functie en bepaal of je het model lang genoeg getrained hebt"
   ]
  },
  {
   "cell_type": "code",
   "execution_count": 59,
   "id": "593a6828",
   "metadata": {},
   "outputs": [
    {
     "data": {
      "image/png": "[encoded data removed]",
      "text/plain": [
       "<Figure size 640x480 with 1 Axes>"
      ]
     },
     "metadata": {},
     "output_type": "display_data"
    }
   ],
   "source": [
    "plt.plot(loss_train, loss_test)\n",
    "plt.show()"
   ]
  },
  {
   "cell_type": "code",
   "execution_count": null,
   "id": "3ce7f47c",
   "metadata": {},
   "outputs": [],
   "source": []
  },
  {
   "cell_type": "markdown",
   "id": "58d56a8e",
   "metadata": {},
   "source": [
    "# Stap 3: Predictions\n",
    "Gebruik de predict method van het model en stop hier je x_val dataset in.\n",
    "Plot de originele en gereconstrueerde afbeeldingen en vergelijk ze, zie je verschil met de outliers?"
   ]
  },
  {
   "cell_type": "code",
   "execution_count": null,
   "id": "588629fb",
   "metadata": {},
   "outputs": [],
   "source": []
  },
  {
   "cell_type": "code",
   "execution_count": null,
   "id": "54d3743a",
   "metadata": {},
   "outputs": [],
   "source": []
  },
  {
   "cell_type": "markdown",
   "id": "82e0c1c4",
   "metadata": {},
   "source": [
    "# Stap 4: Outlier detection\n",
    "## 4.1 Quanitificeer de verschillen\n",
    "Vergelijk de verschillen in de afbeeldingen met verschillende performance metrics zoals MSE, RMSE, MAPE, \n",
    "gebruik hiervoor de module <b> sklearn.metrics\n",
    "\n",
    "Kies eerst MSE om te kijken of er een significant verschill is met outliers en niet-outliers"
   ]
  },
  {
   "cell_type": "code",
   "execution_count": null,
   "id": "d2d26d62",
   "metadata": {},
   "outputs": [],
   "source": []
  },
  {
   "cell_type": "code",
   "execution_count": null,
   "id": "81c11ee1",
   "metadata": {},
   "outputs": [],
   "source": []
  },
  {
   "cell_type": "markdown",
   "id": "b16d0047",
   "metadata": {},
   "source": [
    "# 4.2 Tunen\n",
    "Kan je alle outliers eruit halen op basis van de metrics? Gefeliciteerd\n",
    "Mocht dit niet het geval zijn, dan kan dit aan de \"latent_dim\" liggen, de ruimte naar waar de afbeelding wordt samengeknepen in het model, speel met deze parameter en kijk of het de verschillen tussen de outliers en niet-outliers kan verbeteren."
   ]
  },
  {
   "cell_type": "code",
   "execution_count": null,
   "id": "4822204e",
   "metadata": {},
   "outputs": [],
   "source": []
  },
  {
   "cell_type": "code",
   "execution_count": null,
   "id": "bed98142",
   "metadata": {},
   "outputs": [],
   "source": []
  },
  {
   "cell_type": "markdown",
   "id": "a3ef9604",
   "metadata": {},
   "source": [
    "## 4.3 Threshold\n",
    "Als de vorige stappen goed werken wordt het tijd om automatisch aan te geven wat de outliers zijn.\n",
    "Kies een threshold voor de door jouw gekozen performance metric."
   ]
  },
  {
   "cell_type": "code",
   "execution_count": null,
   "id": "fc4b5fbd",
   "metadata": {},
   "outputs": [],
   "source": []
  },
  {
   "cell_type": "code",
   "execution_count": null,
   "id": "0749dce9",
   "metadata": {},
   "outputs": [],
   "source": []
  },
  {
   "cell_type": "markdown",
   "id": "c98d0edc",
   "metadata": {},
   "source": [
    "# Opdracht voor volgende week\n",
    "Maak een algoritme dat automatisch verteld of een afbeelding een anomally is op basis van jouw model.\n",
    "\n",
    "Deel daarnaast mogelijke interessante bevindingen.\n",
    "\n",
    "Iedereen mag even kort voor de groep presenteren"
   ]
  }
 ],
 "metadata": {
  "kernelspec": {
   "display_name": "base",
   "language": "python",
   "name": "python3"
  },
  "language_info": {
   "codemirror_mode": {
    "name": "ipython",
    "version": 3
   },
   "file_extension": ".py",
   "mimetype": "text/x-python",
   "name": "python",
   "nbconvert_exporter": "python",
   "pygments_lexer": "ipython3",
   "version": "3.12.7"
  }
 },
 "nbformat": 4,
 "nbformat_minor": 5
}
