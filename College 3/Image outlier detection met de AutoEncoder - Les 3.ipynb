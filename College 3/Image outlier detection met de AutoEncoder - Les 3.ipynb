{
 "cells": [
  {
   "cell_type": "code",
   "execution_count": 9,
   "id": "0cf1504f",
   "metadata": {},
   "outputs": [
    {
     "name": "stdout",
     "output_type": "stream",
     "text": [
      "Collecting opencv-python\n",
      "  Downloading opencv_python-4.11.0.86-cp37-abi3-win_amd64.whl.metadata (20 kB)\n",
      "Requirement already satisfied: numpy>=1.21.2 in c:\\users\\chaos\\anaconda3\\lib\\site-packages (from opencv-python) (1.26.4)\n",
      "Downloading opencv_python-4.11.0.86-cp37-abi3-win_amd64.whl (39.5 MB)\n",
      "   ---------------------------------------- 0.0/39.5 MB ? eta -:--:--\n",
      "   --- ------------------------------------ 3.4/39.5 MB 15.5 MB/s eta 0:00:03\n",
      "   --------- ------------------------------ 9.2/39.5 MB 22.0 MB/s eta 0:00:02\n",
      "   -------------- ------------------------- 14.4/39.5 MB 22.6 MB/s eta 0:00:02\n",
      "   -------------------- ------------------- 19.9/39.5 MB 23.3 MB/s eta 0:00:01\n",
      "   -------------------------- ------------- 26.0/39.5 MB 24.2 MB/s eta 0:00:01\n",
      "   -------------------------------- ------- 32.0/39.5 MB 24.8 MB/s eta 0:00:01\n",
      "   -------------------------------------- - 38.0/39.5 MB 25.4 MB/s eta 0:00:01\n",
      "   ---------------------------------------  39.3/39.5 MB 25.5 MB/s eta 0:00:01\n",
      "   ---------------------------------------  39.3/39.5 MB 25.5 MB/s eta 0:00:01\n",
      "   ---------------------------------------- 39.5/39.5 MB 19.3 MB/s eta 0:00:00\n",
      "Installing collected packages: opencv-python\n",
      "Successfully installed opencv-python-4.11.0.86\n"
     ]
    }
   ],
   "source": [
    "!pip install opencv-python"
   ]
  },
  {
   "cell_type": "markdown",
   "id": "97208562",
   "metadata": {},
   "source": [
    "# Stap 1: Data voorbereiden:\n",
    "1. Zorg dat je een dataset hebt van ruim meer dan 1000 afbeeldingen\n",
    "2. Splits de data in 3 datasets:\n",
    "\n",
    "    a) x_train: ongeveer 80% van de gehele dataset\n",
    "    \n",
    "    b) x_test: ongeveer 20% van de gehele dataset\n",
    "    \n",
    "    c) x_val: ongeveer 5 afbeeldingen die geen anomally zijn (uit je dataset) + een aantal anomallies\n",
    "<b> Belangrijk </b>, zorg er voor data je de data _random_ split\n",
    "\n",
    "3. Zet de afbeeldingen om naar 28 x 28\n",
    "4. Maak de afbeeldingen zwart wit\n",
    "5. Maak van elke dataset een numpy object met de shape (aantal_afbeeldingen, 28, 28)\n",
    "\n",
    "<b> Tip: </b> Kijk even of het is goedgegaan door door je datasets heen te bladeren en afbeeldingen met de \"imshow\" functie van matplotlib\n",
    "\n",
    "6. Pixels hebben normaal een waarde tussen 0 en 255, het model werkt alleen met waarden tussen 0 en 1"
   ]
  },
  {
   "cell_type": "code",
   "execution_count": 10,
   "id": "66c79d19",
   "metadata": {},
   "outputs": [
    {
     "ename": "AttributeError",
     "evalue": "'NoneType' object has no attribute '__array_interface__'",
     "output_type": "error",
     "traceback": [
      "\u001b[1;31m---------------------------------------------------------------------------\u001b[0m",
      "\u001b[1;31mAttributeError\u001b[0m                            Traceback (most recent call last)",
      "Cell \u001b[1;32mIn[10], line 15\u001b[0m\n\u001b[0;32m     13\u001b[0m image \u001b[38;5;241m=\u001b[39m cv2\u001b[38;5;241m.\u001b[39mimread(image_name, cv2\u001b[38;5;241m.\u001b[39mIMREAD_GRAYSCALE)\n\u001b[0;32m     14\u001b[0m \u001b[38;5;66;03m# image.shape\u001b[39;00m\n\u001b[1;32m---> 15\u001b[0m image \u001b[38;5;241m=\u001b[39m Image\u001b[38;5;241m.\u001b[39mfromarray(image)\n\u001b[0;32m     16\u001b[0m image\n\u001b[0;32m     19\u001b[0m \u001b[38;5;66;03m# resize de image\u001b[39;00m\n",
      "File \u001b[1;32mc:\\Users\\chaos\\anaconda3\\Lib\\site-packages\\PIL\\Image.py:3266\u001b[0m, in \u001b[0;36mfromarray\u001b[1;34m(obj, mode)\u001b[0m\n\u001b[0;32m   3219\u001b[0m \u001b[38;5;28;01mdef\u001b[39;00m\u001b[38;5;250m \u001b[39m\u001b[38;5;21mfromarray\u001b[39m(obj: SupportsArrayInterface, mode: \u001b[38;5;28mstr\u001b[39m \u001b[38;5;241m|\u001b[39m \u001b[38;5;28;01mNone\u001b[39;00m \u001b[38;5;241m=\u001b[39m \u001b[38;5;28;01mNone\u001b[39;00m) \u001b[38;5;241m-\u001b[39m\u001b[38;5;241m>\u001b[39m Image:\n\u001b[0;32m   3220\u001b[0m \u001b[38;5;250m    \u001b[39m\u001b[38;5;124;03m\"\"\"\u001b[39;00m\n\u001b[0;32m   3221\u001b[0m \u001b[38;5;124;03m    Creates an image memory from an object exporting the array interface\u001b[39;00m\n\u001b[0;32m   3222\u001b[0m \u001b[38;5;124;03m    (using the buffer protocol)::\u001b[39;00m\n\u001b[1;32m   (...)\u001b[0m\n\u001b[0;32m   3264\u001b[0m \u001b[38;5;124;03m    .. versionadded:: 1.1.6\u001b[39;00m\n\u001b[0;32m   3265\u001b[0m \u001b[38;5;124;03m    \"\"\"\u001b[39;00m\n\u001b[1;32m-> 3266\u001b[0m     arr \u001b[38;5;241m=\u001b[39m obj\u001b[38;5;241m.\u001b[39m__array_interface__\n\u001b[0;32m   3267\u001b[0m     shape \u001b[38;5;241m=\u001b[39m arr[\u001b[38;5;124m\"\u001b[39m\u001b[38;5;124mshape\u001b[39m\u001b[38;5;124m\"\u001b[39m]\n\u001b[0;32m   3268\u001b[0m     ndim \u001b[38;5;241m=\u001b[39m \u001b[38;5;28mlen\u001b[39m(shape)\n",
      "\u001b[1;31mAttributeError\u001b[0m: 'NoneType' object has no attribute '__array_interface__'"
     ]
    }
   ],
   "source": [
    "import cv2\n",
    "from PIL import Image\n",
    "import matplotlib.pyplot as plt\n",
    "import numpy as np\n",
    "import os\n",
    "os.chdir(\"Subsample_image_data\")\n",
    "# of os.chdir(‘image_data’)\n",
    "os.listdir()\n",
    "\n",
    "image_name = '00001_3_F.png'\n",
    "image_name\n",
    "\n",
    "image = cv2.imread(image_name, cv2.IMREAD_GRAYSCALE)\n",
    "# image.shape\n",
    "image = Image.fromarray(image)\n",
    "image\n",
    "\n",
    "\n",
    "# resize de image\n",
    "image = np.array((image.resize((28,28), Image.LANCZOS)))\n",
    "image.shape\n"
   ]
  },
  {
   "cell_type": "code",
   "execution_count": null,
   "id": "f11bc45f",
   "metadata": {},
   "outputs": [],
   "source": []
  },
  {
   "cell_type": "code",
   "execution_count": null,
   "id": "8ebfe2ec",
   "metadata": {},
   "outputs": [],
   "source": []
  },
  {
   "cell_type": "markdown",
   "id": "46c1eee1",
   "metadata": {},
   "source": [
    "# Stap 2: Het trainen van de Autoencoder\n",
    "Hieronder krijgen jullie de code van het model (de autoencoder), hij is opgesschreven als functie. In de documentatie van de functie staat wat de inputs en outputs zijn."
   ]
  },
  {
   "cell_type": "code",
   "execution_count": null,
   "id": "628532c0",
   "metadata": {},
   "outputs": [],
   "source": [
    "def train_autoencoder(x_train, x_test, latent_dim, num_epochs):\n",
    "    \"\"\"\n",
    "    :param x_train: this should be (around) 80% of your train dataset !!important, use a random split\n",
    "    :param x_test: this should be (around) 20 % of your train dataset !!important, use a random split\n",
    "    :param latent_dim: This is the space the images will be reduced to, to start: use the value 164, play with it later\n",
    "    :param num_epochs: The number of training rounds\n",
    "    :return: [0] : the trained autoencoder model\n",
    "             [1] : the training data loss per epoch\n",
    "             [2] : the test data loss per epoch\n",
    "    \"\"\"\n",
    "    import tensorflow as tf\n",
    "    from tensorflow.keras import layers, losses\n",
    "    from tensorflow.keras.models import Model\n",
    "\n",
    "    class Autoencoder(Model):\n",
    "        def __init__(self, latent_dim):\n",
    "            super(Autoencoder, self).__init__()\n",
    "            self.latent_dim = latent_dim\n",
    "            self.encoder = tf.keras.Sequential([\n",
    "                layers.Flatten(),\n",
    "                layers.Dense(latent_dim, activation='relu'),\n",
    "            ])\n",
    "            self.decoder = tf.keras.Sequential([\n",
    "                layers.Dense(784, activation='sigmoid'),\n",
    "                layers.Reshape((28, 28))\n",
    "            ])\n",
    "\n",
    "        def call(self, x):\n",
    "            encoded = self.encoder(x)\n",
    "            decoded = self.decoder(encoded)\n",
    "            return decoded\n",
    "\n",
    "    autoencoder = Autoencoder(latent_dim)\n",
    "\n",
    "    autoencoder.compile(optimizer='adam', loss=losses.MeanSquaredError())\n",
    "\n",
    "    history = autoencoder.fit(x_train, x_train,\n",
    "                    epochs=num_epochs,\n",
    "                    shuffle=True,\n",
    "                    validation_data=(x_test, x_test))\n",
    "\n",
    "    return autoencoder, history.history['loss'], history.history['val_loss']"
   ]
  },
  {
   "cell_type": "markdown",
   "id": "dc3923ef",
   "metadata": {},
   "source": [
    "## 2.1 Trainen\n",
    "Train het model met de functie hierboven, kies een lage waarde voor de epochs"
   ]
  },
  {
   "cell_type": "code",
   "execution_count": null,
   "id": "5e2b34b7",
   "metadata": {},
   "outputs": [],
   "source": []
  },
  {
   "cell_type": "code",
   "execution_count": null,
   "id": "f00ca8d6",
   "metadata": {},
   "outputs": [],
   "source": []
  },
  {
   "cell_type": "markdown",
   "id": "94da1398",
   "metadata": {},
   "source": [
    "## 2.2 Analyseer de loss functie:\n",
    "Plot de loss functie en bepaal of je het model lang genoeg getrained hebt"
   ]
  },
  {
   "cell_type": "code",
   "execution_count": null,
   "id": "593a6828",
   "metadata": {},
   "outputs": [],
   "source": []
  },
  {
   "cell_type": "code",
   "execution_count": null,
   "id": "3ce7f47c",
   "metadata": {},
   "outputs": [],
   "source": []
  },
  {
   "cell_type": "markdown",
   "id": "58d56a8e",
   "metadata": {},
   "source": [
    "# Stap 3: Predictions\n",
    "Gebruik de predict method van het model en stop hier je x_val dataset in.\n",
    "Plot de originele en gereconstrueerde afbeeldingen en vergelijk ze, zie je verschil met de outliers?"
   ]
  },
  {
   "cell_type": "code",
   "execution_count": null,
   "id": "588629fb",
   "metadata": {},
   "outputs": [],
   "source": []
  },
  {
   "cell_type": "code",
   "execution_count": null,
   "id": "54d3743a",
   "metadata": {},
   "outputs": [],
   "source": []
  },
  {
   "cell_type": "markdown",
   "id": "82e0c1c4",
   "metadata": {},
   "source": [
    "# Stap 4: Outlier detection\n",
    "## 4.1 Quanitificeer de verschillen\n",
    "Vergelijk de verschillen in de afbeeldingen met verschillende performance metrics zoals MSE, RMSE, MAPE, \n",
    "gebruik hiervoor de module <b> sklearn.metrics\n",
    "\n",
    "Kies eerst MSE om te kijken of er een significant verschill is met outliers en niet-outliers"
   ]
  },
  {
   "cell_type": "code",
   "execution_count": null,
   "id": "d2d26d62",
   "metadata": {},
   "outputs": [],
   "source": []
  },
  {
   "cell_type": "code",
   "execution_count": null,
   "id": "81c11ee1",
   "metadata": {},
   "outputs": [],
   "source": []
  },
  {
   "cell_type": "markdown",
   "id": "b16d0047",
   "metadata": {},
   "source": [
    "# 4.2 Tunen\n",
    "Kan je alle outliers eruit halen op basis van de metrics? Gefeliciteerd\n",
    "Mocht dit niet het geval zijn, dan kan dit aan de \"latent_dim\" liggen, de ruimte naar waar de afbeelding wordt samengeknepen in het model, speel met deze parameter en kijk of het de verschillen tussen de outliers en niet-outliers kan verbeteren."
   ]
  },
  {
   "cell_type": "code",
   "execution_count": null,
   "id": "4822204e",
   "metadata": {},
   "outputs": [],
   "source": []
  },
  {
   "cell_type": "code",
   "execution_count": null,
   "id": "bed98142",
   "metadata": {},
   "outputs": [],
   "source": []
  },
  {
   "cell_type": "markdown",
   "id": "a3ef9604",
   "metadata": {},
   "source": [
    "## 4.3 Threshold\n",
    "Als de vorige stappen goed werken wordt het tijd om automatisch aan te geven wat de outliers zijn.\n",
    "Kies een threshold voor de door jouw gekozen performance metric."
   ]
  },
  {
   "cell_type": "code",
   "execution_count": null,
   "id": "fc4b5fbd",
   "metadata": {},
   "outputs": [],
   "source": []
  },
  {
   "cell_type": "code",
   "execution_count": null,
   "id": "0749dce9",
   "metadata": {},
   "outputs": [],
   "source": []
  },
  {
   "cell_type": "markdown",
   "id": "c98d0edc",
   "metadata": {},
   "source": [
    "# Opdracht voor volgende week\n",
    "Maak een algoritme dat automatisch verteld of een afbeelding een anomally is op basis van jouw model.\n",
    "\n",
    "Deel daarnaast mogelijke interessante bevindingen.\n",
    "\n",
    "Iedereen mag even kort voor de groep presenteren"
   ]
  }
 ],
 "metadata": {
  "kernelspec": {
   "display_name": "base",
   "language": "python",
   "name": "python3"
  },
  "language_info": {
   "codemirror_mode": {
    "name": "ipython",
    "version": 3
   },
   "file_extension": ".py",
   "mimetype": "text/x-python",
   "name": "python",
   "nbconvert_exporter": "python",
   "pygments_lexer": "ipython3",
   "version": "3.12.7"
  }
 },
 "nbformat": 4,
 "nbformat_minor": 5
}
